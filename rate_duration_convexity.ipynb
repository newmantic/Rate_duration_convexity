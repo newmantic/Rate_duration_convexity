{
  "nbformat": 4,
  "nbformat_minor": 0,
  "metadata": {
    "colab": {
      "provenance": [],
      "authorship_tag": "ABX9TyOCX2CaWVtE727ZQUYm71tH",
      "include_colab_link": true
    },
    "kernelspec": {
      "name": "python3",
      "display_name": "Python 3"
    },
    "language_info": {
      "name": "python"
    }
  },
  "cells": [
    {
      "cell_type": "markdown",
      "metadata": {
        "id": "view-in-github",
        "colab_type": "text"
      },
      "source": [
        "<a href=\"https://colab.research.google.com/github/newmantic/Rate_duration_convexity/blob/main/rate_duration_convexity.ipynb\" target=\"_parent\"><img src=\"https://colab.research.google.com/assets/colab-badge.svg\" alt=\"Open In Colab\"/></a>"
      ]
    },
    {
      "cell_type": "code",
      "execution_count": 2,
      "metadata": {
        "id": "aVhCdNREypry"
      },
      "outputs": [],
      "source": [
        "import numpy as np\n",
        "\n",
        "def calculate_duration(cash_flows, discount_rate):\n",
        "    \"\"\"\n",
        "    Calculate the Macaulay Duration and Modified Duration of a bond.\n",
        "\n",
        "    Parameters:\n",
        "    - cash_flows: List or numpy array of bond cash flows.\n",
        "    - discount_rate: The discount rate or yield to maturity (YTM).\n",
        "\n",
        "    Returns:\n",
        "    - macaulay_duration: The Macaulay Duration of the bond.\n",
        "    - modified_duration: The Modified Duration of the bond.\n",
        "    \"\"\"\n",
        "    time_periods = np.arange(1, len(cash_flows) + 1)\n",
        "    discounted_cash_flows = cash_flows / (1 + discount_rate) ** time_periods\n",
        "\n",
        "    bond_price = np.sum(discounted_cash_flows)\n",
        "    weighted_average_time = np.sum(time_periods * discounted_cash_flows) / bond_price\n",
        "\n",
        "    macaulay_duration = weighted_average_time\n",
        "    modified_duration = macaulay_duration / (1 + discount_rate)\n",
        "\n",
        "    return macaulay_duration, modified_duration"
      ]
    },
    {
      "cell_type": "code",
      "source": [
        "def calculate_convexity(cash_flows, discount_rate):\n",
        "    \"\"\"\n",
        "    Calculate the Convexity of a bond.\n",
        "\n",
        "    Parameters:\n",
        "    - cash_flows: List or numpy array of bond cash flows.\n",
        "    - discount_rate: The discount rate or yield to maturity (YTM).\n",
        "\n",
        "    Returns:\n",
        "    - convexity: The Convexity of the bond.\n",
        "    \"\"\"\n",
        "    time_periods = np.arange(1, len(cash_flows) + 1)\n",
        "    discounted_cash_flows = cash_flows / (1 + discount_rate) ** time_periods\n",
        "\n",
        "    convexity_numerator = np.sum(time_periods * (time_periods + 1) * discounted_cash_flows)\n",
        "    bond_price = np.sum(discounted_cash_flows)\n",
        "    convexity = convexity_numerator / (bond_price * (1 + discount_rate) ** 2)\n",
        "\n",
        "    return convexity"
      ],
      "metadata": {
        "id": "5R-2OIgDzEv4"
      },
      "execution_count": 3,
      "outputs": []
    },
    {
      "cell_type": "code",
      "source": [
        "# Test Case: 5-year bond with annual coupon payments\n",
        "face_value = 1000\n",
        "coupon_rate = 0.05  # 5% annual coupon\n",
        "years_to_maturity = 5\n",
        "ytm = 0.04  # 4% yield to maturity\n",
        "\n",
        "# Calculate annual cash flows\n",
        "cash_flows = np.full(years_to_maturity, coupon_rate * face_value)\n",
        "cash_flows[-1] += face_value  # Add face value to the last cash flow\n",
        "\n",
        "# Calculate Duration\n",
        "macaulay_duration, modified_duration = calculate_duration(cash_flows, ytm)\n",
        "print(f\"Macaulay Duration: {macaulay_duration:.4f} years\")\n",
        "print(f\"Modified Duration: {modified_duration:.4f} years\")\n",
        "\n",
        "# Calculate Convexity\n",
        "convexity = calculate_convexity(cash_flows, ytm)\n",
        "print(f\"Convexity: {convexity:.4f}\")"
      ],
      "metadata": {
        "colab": {
          "base_uri": "https://localhost:8080/"
        },
        "id": "A8adM0YNzKoF",
        "outputId": "4908f058-90fd-4685-aa82-c49ff02968d0"
      },
      "execution_count": 4,
      "outputs": [
        {
          "output_type": "stream",
          "name": "stdout",
          "text": [
            "Macaulay Duration: 4.5571 years\n",
            "Modified Duration: 4.3818 years\n",
            "Convexity: 24.4766\n"
          ]
        }
      ]
    }
  ]
}